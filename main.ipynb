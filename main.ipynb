{
 "cells": [
  {
   "cell_type": "markdown",
   "metadata": {},
   "source": [
    "### Analyzing a real world data-set with SQL and Python"
   ]
  },
  {
   "cell_type": "markdown",
   "metadata": {},
   "source": [
    "\n",
    "The city of Chicago released a dataset of socioeconomic data to the Chicago City Portal.\n",
    "This dataset contains a selection of six socioeconomic indicators of public health significance and a “hardship index,” for each Chicago community area, for the years 2008 – 2012.\n",
    "\n",
    "Scores on the hardship index can range from 1 to 100, with a higher index number representing a greater level of hardship.\n",
    "\n",
    "A detailed description of the dataset can be found on [the city of Chicago's website](https://data.cityofchicago.org/Health-Human-Services/Census-Data-Selected-socioeconomic-indicators-in-C/kn9c-c2s2?utm_medium=Exinfluencer&utm_source=Exinfluencer&utm_content=000026UJ&utm_term=10006555&utm_id=NA-SkillsNetwork-Channel-SkillsNetworkCoursesIBMDeveloperSkillsNetworkDB0201ENSkillsNetwork20127838-2021-01-01), but to summarize, the dataset has the following variables:\n",
    "\n",
    "*   **Community Area Number** (`ca`): Used to uniquely identify each row of the dataset\n",
    "\n",
    "*   **Community Area Name** (`community_area_name`): The name of the region in the city of Chicago\n",
    "\n",
    "*   **Percent of Housing Crowded** (`percent_of_housing_crowded`): Percent of occupied housing units with more than one person per room\n",
    "\n",
    "*   **Percent Households Below Poverty** (`percent_households_below_poverty`): Percent of households living below the federal poverty line\n",
    "\n",
    "*   **Percent Aged 16+ Unemployed** (`percent_aged_16_unemployed`): Percent of persons over the age of 16 years that are unemployed\n",
    "\n",
    "*   **Percent Aged 25+ without High School Diploma** (`percent_aged_25_without_high_school_diploma`): Percent of persons over the age of 25 years without a high school education\n",
    "\n",
    "*   **Percent Aged Under** 18 or Over 64:Percent of population under 18 or over 64 years of age (`percent_aged_under_18_or_over_64`): (ie. dependents)\n",
    "\n",
    "*   **Per Capita Income** (`per_capita_income_`): Community Area per capita income is estimated as the sum of tract-level aggragate incomes divided by the total population\n",
    "\n",
    "*   **Hardship Index** (`hardship_index`): Score that incorporates each of the six selected socioeconomic indicators\n"
   ]
  },
  {
   "cell_type": "code",
   "execution_count": 1,
   "metadata": {},
   "outputs": [],
   "source": [
    "# import the module needed for this project\n",
    "import csv, sqlite3, pandas\n"
   ]
  },
  {
   "cell_type": "code",
   "execution_count": 3,
   "metadata": {},
   "outputs": [],
   "source": [
    "# create and connect to the database\n",
    "con = sqlite3.connect('socioeconomic.db')\n",
    "cur = con.cursor()"
   ]
  },
  {
   "cell_type": "code",
   "execution_count": 20,
   "metadata": {},
   "outputs": [
    {
     "data": {
      "text/html": [
       "<div>\n",
       "<style scoped>\n",
       "    .dataframe tbody tr th:only-of-type {\n",
       "        vertical-align: middle;\n",
       "    }\n",
       "\n",
       "    .dataframe tbody tr th {\n",
       "        vertical-align: top;\n",
       "    }\n",
       "\n",
       "    .dataframe thead th {\n",
       "        text-align: right;\n",
       "    }\n",
       "</style>\n",
       "<table border=\"1\" class=\"dataframe\">\n",
       "  <thead>\n",
       "    <tr style=\"text-align: right;\">\n",
       "      <th></th>\n",
       "      <th>ca</th>\n",
       "      <th>community_area_name</th>\n",
       "      <th>percent_of_housing_crowded</th>\n",
       "      <th>percent_households_below_poverty</th>\n",
       "      <th>percent_aged_16_unemployed</th>\n",
       "      <th>percent_aged_25_without_high_school_diploma</th>\n",
       "      <th>percent_aged_under_18_or_over_64</th>\n",
       "      <th>per_capita_income_</th>\n",
       "      <th>hardship_index</th>\n",
       "    </tr>\n",
       "  </thead>\n",
       "  <tbody>\n",
       "    <tr>\n",
       "      <th>0</th>\n",
       "      <td>1.0</td>\n",
       "      <td>Rogers Park</td>\n",
       "      <td>7.7</td>\n",
       "      <td>23.6</td>\n",
       "      <td>8.7</td>\n",
       "      <td>18.2</td>\n",
       "      <td>27.5</td>\n",
       "      <td>23939</td>\n",
       "      <td>39.0</td>\n",
       "    </tr>\n",
       "    <tr>\n",
       "      <th>1</th>\n",
       "      <td>2.0</td>\n",
       "      <td>West Ridge</td>\n",
       "      <td>7.8</td>\n",
       "      <td>17.2</td>\n",
       "      <td>8.8</td>\n",
       "      <td>20.8</td>\n",
       "      <td>38.5</td>\n",
       "      <td>23040</td>\n",
       "      <td>46.0</td>\n",
       "    </tr>\n",
       "    <tr>\n",
       "      <th>2</th>\n",
       "      <td>3.0</td>\n",
       "      <td>Uptown</td>\n",
       "      <td>3.8</td>\n",
       "      <td>24.0</td>\n",
       "      <td>8.9</td>\n",
       "      <td>11.8</td>\n",
       "      <td>22.2</td>\n",
       "      <td>35787</td>\n",
       "      <td>20.0</td>\n",
       "    </tr>\n",
       "    <tr>\n",
       "      <th>3</th>\n",
       "      <td>4.0</td>\n",
       "      <td>Lincoln Square</td>\n",
       "      <td>3.4</td>\n",
       "      <td>10.9</td>\n",
       "      <td>8.2</td>\n",
       "      <td>13.4</td>\n",
       "      <td>25.5</td>\n",
       "      <td>37524</td>\n",
       "      <td>17.0</td>\n",
       "    </tr>\n",
       "    <tr>\n",
       "      <th>4</th>\n",
       "      <td>5.0</td>\n",
       "      <td>North Center</td>\n",
       "      <td>0.3</td>\n",
       "      <td>7.5</td>\n",
       "      <td>5.2</td>\n",
       "      <td>4.5</td>\n",
       "      <td>26.2</td>\n",
       "      <td>57123</td>\n",
       "      <td>6.0</td>\n",
       "    </tr>\n",
       "    <tr>\n",
       "      <th>...</th>\n",
       "      <td>...</td>\n",
       "      <td>...</td>\n",
       "      <td>...</td>\n",
       "      <td>...</td>\n",
       "      <td>...</td>\n",
       "      <td>...</td>\n",
       "      <td>...</td>\n",
       "      <td>...</td>\n",
       "      <td>...</td>\n",
       "    </tr>\n",
       "    <tr>\n",
       "      <th>73</th>\n",
       "      <td>74.0</td>\n",
       "      <td>Mount Greenwood</td>\n",
       "      <td>1.0</td>\n",
       "      <td>3.4</td>\n",
       "      <td>8.7</td>\n",
       "      <td>4.3</td>\n",
       "      <td>36.8</td>\n",
       "      <td>34381</td>\n",
       "      <td>16.0</td>\n",
       "    </tr>\n",
       "    <tr>\n",
       "      <th>74</th>\n",
       "      <td>75.0</td>\n",
       "      <td>Morgan Park</td>\n",
       "      <td>0.8</td>\n",
       "      <td>13.2</td>\n",
       "      <td>15.0</td>\n",
       "      <td>10.8</td>\n",
       "      <td>40.3</td>\n",
       "      <td>27149</td>\n",
       "      <td>30.0</td>\n",
       "    </tr>\n",
       "    <tr>\n",
       "      <th>75</th>\n",
       "      <td>76.0</td>\n",
       "      <td>O'Hare</td>\n",
       "      <td>3.6</td>\n",
       "      <td>15.4</td>\n",
       "      <td>7.1</td>\n",
       "      <td>10.9</td>\n",
       "      <td>30.3</td>\n",
       "      <td>25828</td>\n",
       "      <td>24.0</td>\n",
       "    </tr>\n",
       "    <tr>\n",
       "      <th>76</th>\n",
       "      <td>77.0</td>\n",
       "      <td>Edgewater</td>\n",
       "      <td>4.1</td>\n",
       "      <td>18.2</td>\n",
       "      <td>9.2</td>\n",
       "      <td>9.7</td>\n",
       "      <td>23.8</td>\n",
       "      <td>33385</td>\n",
       "      <td>19.0</td>\n",
       "    </tr>\n",
       "    <tr>\n",
       "      <th>77</th>\n",
       "      <td>NaN</td>\n",
       "      <td>CHICAGO</td>\n",
       "      <td>4.7</td>\n",
       "      <td>19.7</td>\n",
       "      <td>12.9</td>\n",
       "      <td>19.5</td>\n",
       "      <td>33.5</td>\n",
       "      <td>28202</td>\n",
       "      <td>NaN</td>\n",
       "    </tr>\n",
       "  </tbody>\n",
       "</table>\n",
       "<p>78 rows × 9 columns</p>\n",
       "</div>"
      ],
      "text/plain": [
       "      ca community_area_name  percent_of_housing_crowded  \\\n",
       "0    1.0         Rogers Park                         7.7   \n",
       "1    2.0          West Ridge                         7.8   \n",
       "2    3.0              Uptown                         3.8   \n",
       "3    4.0      Lincoln Square                         3.4   \n",
       "4    5.0        North Center                         0.3   \n",
       "..   ...                 ...                         ...   \n",
       "73  74.0     Mount Greenwood                         1.0   \n",
       "74  75.0         Morgan Park                         0.8   \n",
       "75  76.0              O'Hare                         3.6   \n",
       "76  77.0           Edgewater                         4.1   \n",
       "77   NaN             CHICAGO                         4.7   \n",
       "\n",
       "    percent_households_below_poverty  percent_aged_16_unemployed  \\\n",
       "0                               23.6                         8.7   \n",
       "1                               17.2                         8.8   \n",
       "2                               24.0                         8.9   \n",
       "3                               10.9                         8.2   \n",
       "4                                7.5                         5.2   \n",
       "..                               ...                         ...   \n",
       "73                               3.4                         8.7   \n",
       "74                              13.2                        15.0   \n",
       "75                              15.4                         7.1   \n",
       "76                              18.2                         9.2   \n",
       "77                              19.7                        12.9   \n",
       "\n",
       "    percent_aged_25_without_high_school_diploma  \\\n",
       "0                                          18.2   \n",
       "1                                          20.8   \n",
       "2                                          11.8   \n",
       "3                                          13.4   \n",
       "4                                           4.5   \n",
       "..                                          ...   \n",
       "73                                          4.3   \n",
       "74                                         10.8   \n",
       "75                                         10.9   \n",
       "76                                          9.7   \n",
       "77                                         19.5   \n",
       "\n",
       "    percent_aged_under_18_or_over_64  per_capita_income_  hardship_index  \n",
       "0                               27.5               23939            39.0  \n",
       "1                               38.5               23040            46.0  \n",
       "2                               22.2               35787            20.0  \n",
       "3                               25.5               37524            17.0  \n",
       "4                               26.2               57123             6.0  \n",
       "..                               ...                 ...             ...  \n",
       "73                              36.8               34381            16.0  \n",
       "74                              40.3               27149            30.0  \n",
       "75                              30.3               25828            24.0  \n",
       "76                              23.8               33385            19.0  \n",
       "77                              33.5               28202             NaN  \n",
       "\n",
       "[78 rows x 9 columns]"
      ]
     },
     "execution_count": 20,
     "metadata": {},
     "output_type": "execute_result"
    }
   ],
   "source": [
    "# Store the dataset in a Table\n",
    "df = pandas.read_csv('https://data.cityofchicago.org/resource/jcxq-k9xf.csv')\n",
    "df.to_sql(\"chicago_socioeconomic_data\", con, if_exists='replace', index=False,method=\"multi\")\n",
    "df"
   ]
  },
  {
   "cell_type": "code",
   "execution_count": 12,
   "metadata": {},
   "outputs": [],
   "source": [
    "cur.execute('SELECT * FROM chicago_socioeconomic_data')\n",
    "result = cur.fetchall()"
   ]
  },
  {
   "cell_type": "code",
   "execution_count": 19,
   "metadata": {},
   "outputs": [
    {
     "data": {
      "text/plain": [
       "(78,)"
      ]
     },
     "execution_count": 19,
     "metadata": {},
     "output_type": "execute_result"
    }
   ],
   "source": [
    "# How many rows are in the dataset?\n",
    "cur.execute('SELECT COUNT(*) FROM chicago_socioeconomic_data')\n",
    "result = cur.fetchone()\n",
    "result"
   ]
  },
  {
   "cell_type": "code",
   "execution_count": 24,
   "metadata": {},
   "outputs": [
    {
     "data": {
      "text/plain": [
       "(38,)"
      ]
     },
     "execution_count": 24,
     "metadata": {},
     "output_type": "execute_result"
    }
   ],
   "source": [
    "# How many community areas in Chicago have a hardship index greater than 50.0?\n",
    "cur.execute('SELECT COUNT(*) FROM chicago_socioeconomic_data WHERE hardship_index > 50.0 ')\n",
    "result = cur.fetchone()\n",
    "result"
   ]
  },
  {
   "cell_type": "code",
   "execution_count": 25,
   "metadata": {},
   "outputs": [
    {
     "data": {
      "text/plain": [
       "(98.0,)"
      ]
     },
     "execution_count": 25,
     "metadata": {},
     "output_type": "execute_result"
    }
   ],
   "source": [
    "# What is the maximum value of hardship index in this dataset?\n",
    "cur.execute('SELECT MAX(hardship_index) FROM chicago_socioeconomic_data  ')\n",
    "result = cur.fetchone()\n",
    "result"
   ]
  },
  {
   "cell_type": "code",
   "execution_count": 26,
   "metadata": {},
   "outputs": [
    {
     "data": {
      "text/plain": [
       "('Riverdale',)"
      ]
     },
     "execution_count": 26,
     "metadata": {},
     "output_type": "execute_result"
    }
   ],
   "source": [
    "# Which community area which has the highest hardship index?\n",
    "cur.execute('SELECT community_area_name FROM chicago_socioeconomic_data WHERE hardship_index=(SELECT MAX(hardship_index) FROM chicago_socioeconomic_data) ')\n",
    "result = cur.fetchone()\n",
    "result"
   ]
  },
  {
   "cell_type": "code",
   "execution_count": 31,
   "metadata": {},
   "outputs": [
    {
     "data": {
      "text/plain": [
       "('Riverdale',)"
      ]
     },
     "execution_count": 31,
     "metadata": {},
     "output_type": "execute_result"
    }
   ],
   "source": [
    "# Which community area which has the highest hardship index?\n",
    "cur.execute('SELECT community_area_name FROM chicago_socioeconomic_data ORDER BY  hardship_index DESC LIMIT 2')\n",
    "result = cur.fetchone()\n",
    "result"
   ]
  },
  {
   "cell_type": "code",
   "execution_count": 32,
   "metadata": {},
   "outputs": [
    {
     "data": {
      "text/plain": [
       "[('Lake View',), ('Lincoln Park',), ('Near North Side',), ('Loop',)]"
      ]
     },
     "execution_count": 32,
     "metadata": {},
     "output_type": "execute_result"
    }
   ],
   "source": [
    "# Which Chicago community areas have per-capita incomes greater than $60,000?\n",
    "cur.execute('SELECT community_area_name FROM chicago_socioeconomic_data WHERE per_capita_income_>60000')\n",
    "result = cur.fetchall()\n",
    "result"
   ]
  },
  {
   "cell_type": "code",
   "execution_count": 34,
   "metadata": {},
   "outputs": [
    {
     "data": {
      "image/png": "[encoded data removed]",
      "text/plain": [
       "<Figure size 600x600 with 3 Axes>"
      ]
     },
     "metadata": {},
     "output_type": "display_data"
    }
   ],
   "source": [
    "# Create a scatter plot using the variables per_capita_income_ and hardship_index. Explain the correlation between the two variables.\n",
    "import matplotlib.pyplot as plt\n",
    "%matplotlib inline\n",
    "import seaborn as sns\n",
    "cur.execute('SELECT per_capita_income_, hardship_index FROM chicago_socioeconomic_data')\n",
    "income_vs_hardship = cur.fetchall()\n",
    "\n",
    "income_vs_hardship_df = pandas.DataFrame(income_vs_hardship, columns=['per_capita_income_', 'hardship_index'])\n",
    "\n",
    "plot = sns.jointplot(x='per_capita_income_', y='hardship_index', data=income_vs_hardship_df, kind='scatter')\n",
    "\n",
    "plt.show()"
   ]
  }
 ],
 "metadata": {
  "kernelspec": {
   "display_name": "Python 3",
   "language": "python",
   "name": "python3"
  },
  "language_info": {
   "codemirror_mode": {
    "name": "ipython",
    "version": 3
   },
   "file_extension": ".py",
   "mimetype": "text/x-python",
   "name": "python",
   "nbconvert_exporter": "python",
   "pygments_lexer": "ipython3",
   "version": "3.11.7"
  }
 },
 "nbformat": 4,
 "nbformat_minor": 2
}
